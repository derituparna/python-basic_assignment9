{
 "cells": [
  {
   "cell_type": "markdown",
   "id": "63e2ecfd",
   "metadata": {},
   "source": [
    "1.To what does a relative path refer ?"
   ]
  },
  {
   "cell_type": "code",
   "execution_count": null,
   "id": "9eee6bf4",
   "metadata": {},
   "outputs": [],
   "source": [
    "=>The relative path is the path to some file with respect to your current working directory (PWD).\n",
    "PWD + relative path = absolute path"
   ]
  },
  {
   "cell_type": "markdown",
   "id": "3a23bd30",
   "metadata": {},
   "source": [
    "2.The relative path is the path to some file with respect to your current working directory (PWD)."
   ]
  },
  {
   "cell_type": "code",
   "execution_count": null,
   "id": "b7bc55e4",
   "metadata": {},
   "outputs": [],
   "source": [
    "=>In Windows based systems absolute path starts with C:"
   ]
  },
  {
   "cell_type": "markdown",
   "id": "e6919082",
   "metadata": {},
   "source": [
    "3.What does the functions os.getcwd() and os.chdir() do ?"
   ]
  },
  {
   "cell_type": "code",
   "execution_count": 2,
   "id": "98714eda",
   "metadata": {},
   "outputs": [],
   "source": [
    "#=>os.getcwd() method tells us the location of current working directory (CWD).\n",
    "#Whereas os.chdir() method in Python used to change the current working directory to specified path.\n",
    "import os"
   ]
  },
  {
   "cell_type": "code",
   "execution_count": 3,
   "id": "bcb89820",
   "metadata": {},
   "outputs": [
    {
     "name": "stdout",
     "output_type": "stream",
     "text": [
      "C:\\Users\\HP\\Desktop\\assignment python\n"
     ]
    }
   ],
   "source": [
    "print(os.getcwd())"
   ]
  },
  {
   "cell_type": "markdown",
   "id": "a6055aff",
   "metadata": {},
   "source": [
    "4.What are . and .. folders ?"
   ]
  },
  {
   "cell_type": "code",
   "execution_count": null,
   "id": "c5b6bf51",
   "metadata": {},
   "outputs": [],
   "source": [
    "=>(.) Represents the Current Directory Whereas (..) Represents the Parent Directory of the Current Directory."
   ]
  },
  {
   "cell_type": "markdown",
   "id": "84bb0786",
   "metadata": {},
   "source": [
    "5.In C:\\bacon\\eggs\\spam.txt which part is the dir name and which part is the base name ?"
   ]
  },
  {
   "cell_type": "code",
   "execution_count": null,
   "id": "ab6f24b9",
   "metadata": {},
   "outputs": [],
   "source": [
    "=> C:\\bacon\\eggs : dir name\n",
    "    spam.txt : base name"
   ]
  },
  {
   "cell_type": "code",
   "execution_count": 7,
   "id": "63c752c8",
   "metadata": {},
   "outputs": [
    {
     "name": "stdout",
     "output_type": "stream",
     "text": [
      "C:\\bacon\\eggs\n",
      "spam.txt\n"
     ]
    }
   ],
   "source": [
    "import os\n",
    "path=r'C:\\bacon\\eggs\\spam.txt'\n",
    "dir_name=os.path.dirname(path)\n",
    "base_name=os.path.basename(path)\n",
    "print(dir_name)\n",
    "print(base_name)"
   ]
  },
  {
   "cell_type": "markdown",
   "id": "5f0d586f",
   "metadata": {},
   "source": [
    "6.What are the three mode arguments that can be passed to the open() function ?"
   ]
  },
  {
   "cell_type": "code",
   "execution_count": null,
   "id": "c32a9161",
   "metadata": {},
   "outputs": [],
   "source": [
    "=>A file can be Accessed in python using open() function.\n",
    "open function takes two arguments filename and mode of operation (optional). \n",
    "if mode is not provided the default mode of opening is read mode.\n",
    "So, the syntax being: open(filename, mode)\n",
    "mode: 'r'~ read mode\n",
    "      'w'~ write mode\n",
    "      'r+' ~ read & write mode both.\n",
    "      'a+' ~ append & read mode both.\n",
    "      "
   ]
  },
  {
   "cell_type": "markdown",
   "id": "0eeee128",
   "metadata": {},
   "source": [
    "8.How do you tell the difference between read() and readlines() ?"
   ]
  },
  {
   "cell_type": "code",
   "execution_count": null,
   "id": "f3b1d7ac",
   "metadata": {},
   "outputs": [],
   "source": [
    "=> read() will read the whole file at once and then print out the first characters\n",
    "readline() that will only reads a single line of the file and print out only the first characters "
   ]
  }
 ],
 "metadata": {
  "kernelspec": {
   "display_name": "Python 3",
   "language": "python",
   "name": "python3"
  },
  "language_info": {
   "codemirror_mode": {
    "name": "ipython",
    "version": 3
   },
   "file_extension": ".py",
   "mimetype": "text/x-python",
   "name": "python",
   "nbconvert_exporter": "python",
   "pygments_lexer": "ipython3",
   "version": "3.8.8"
  }
 },
 "nbformat": 4,
 "nbformat_minor": 5
}
